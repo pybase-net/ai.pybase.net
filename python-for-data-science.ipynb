{
 "cells": [
  {
   "cell_type": "code",
   "execution_count": 5,
   "id": "58e5b47c",
   "metadata": {},
   "outputs": [
    {
     "name": "stdout",
     "output_type": "stream",
     "text": [
      "[1, 2, 3, 4, 5, 6, 7, 8]\n"
     ]
    }
   ],
   "source": [
    "a = [1,2,3]\n",
    "print(a)"
   ]
  },
  {
   "cell_type": "markdown",
   "id": "1a421935",
   "metadata": {},
   "source": [
    "# Try Catch"
   ]
  },
  {
   "cell_type": "code",
   "execution_count": null,
   "outputs": [],
   "source": [
    "try:\n",
    "    fh = open(\"./data/example.txt\", \"r+\")\n",
    "    lines = fh.readlines()\n",
    "    output = ''\n",
    "    for line in lines:\n",
    "        output += line\n",
    "    print(output)\n",
    "    # add more line\n",
    "    length = len(lines)\n",
    "    newLines = []\n",
    "    for i in range(length, length + 10):\n",
    "        newLines.append(f\"Line {i+1}\\n\")\n",
    "    fh.write(\"\\n\")\n",
    "    fh.writelines(newLines)\n",
    "except Exception as e:\n",
    "    print(f\"An error occured: {type(e).__name__}: {e}\")\n",
    "else:\n",
    "    fh.close()\n",
    "finally:\n",
    "    fh.close()"
   ],
   "metadata": {
    "collapsed": false
   }
  },
  {
   "cell_type": "markdown",
   "source": [
    "# Custom Exception\n"
   ],
   "metadata": {
    "collapsed": false
   }
  },
  {
   "cell_type": "code",
   "execution_count": 42,
   "outputs": [
    {
     "name": "stdout",
     "output_type": "stream",
     "text": [
      "49 is an odd number\n"
     ]
    }
   ],
   "source": [
    "from random import randint\n",
    "class BadRequestException(Exception):\n",
    "    \"\"\"A custom exception class with an excerpt.\"\"\"\n",
    "    def __init__(self, message):\n",
    "        super().__init__(message)\n",
    "\n",
    "a = randint(1,100)\n",
    "if a % 2 == 0:\n",
    "    raise BadRequestException(f\"{a} is not a valid odd number!\")\n",
    "else:\n",
    "    print(f\"{a} is an odd number\")"
   ],
   "metadata": {
    "collapsed": false,
    "ExecuteTime": {
     "end_time": "2024-12-19T07:30:09.396032Z",
     "start_time": "2024-12-19T07:30:09.393544Z"
    }
   }
  },
  {
   "cell_type": "code",
   "execution_count": 40,
   "outputs": [],
   "source": [],
   "metadata": {
    "collapsed": false,
    "ExecuteTime": {
     "end_time": "2024-12-19T07:30:05.137820Z",
     "start_time": "2024-12-19T07:30:05.132993Z"
    }
   }
  },
  {
   "cell_type": "code",
   "execution_count": 38,
   "outputs": [],
   "source": [],
   "metadata": {
    "collapsed": false,
    "ExecuteTime": {
     "end_time": "2024-12-19T07:29:24.493152Z",
     "start_time": "2024-12-19T07:29:24.488965Z"
    }
   }
  },
  {
   "cell_type": "code",
   "execution_count": null,
   "outputs": [],
   "source": [],
   "metadata": {
    "collapsed": false
   }
  }
 ],
 "metadata": {
  "kernelspec": {
   "display_name": "Python 3 (ipykernel)",
   "language": "python",
   "name": "python3"
  }
 },
 "nbformat": 4,
 "nbformat_minor": 5
}
